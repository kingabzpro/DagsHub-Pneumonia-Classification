{
 "cells": [
  {
   "cell_type": "code",
   "execution_count": 1,
   "id": "86885950",
   "metadata": {},
   "outputs": [],
   "source": [
    "import os\n",
    "import glob\n",
    "import cv2 as cv\n",
    "from matplotlib import pyplot as plt\n",
    "import random"
   ]
  },
  {
   "cell_type": "markdown",
   "id": "dbd92997",
   "metadata": {},
   "source": [
    "**Constance**"
   ]
  },
  {
   "cell_type": "code",
   "execution_count": 2,
   "id": "b68cbd0a",
   "metadata": {},
   "outputs": [],
   "source": [
    "CWD = os.getcwd()\n",
    "PROJECT_NAME = 'omdena-template'\n",
    "HEALTHY = \"NORMAL\"\n",
    "SICK = \"PNEUMONIA\"\n",
    "DIM = (224,224)"
   ]
  },
  {
   "cell_type": "markdown",
   "id": "2cb6fecb",
   "metadata": {},
   "source": [
    "## Get Directories Path"
   ]
  },
  {
   "cell_type": "code",
   "execution_count": 3,
   "id": "51e408d3",
   "metadata": {},
   "outputs": [],
   "source": [
    "if CWD.split('/')[-1] != PROJECT_NAME:\n",
    "    base_path = os.path.join(CWD.split(PROJECT_NAME)[0],PROJECT_NAME)\n",
    "else:\n",
    "    base_path = CWD\n",
    "    \n",
    "RAW_TRAIN_PATH = os.path.join(base_path,'task-1-data-labeling/data/labeled-data/train')\n",
    "RAW_TEST_PATH = os.path.join(base_path,'task-1-data-labeling/data/labeled-data/test')\n",
    "RAW_VAL_PATH = os.path.join(base_path,'task-1-data-labeling/data/labeled-data/val')"
   ]
  },
  {
   "cell_type": "code",
   "execution_count": 4,
   "id": "88281150",
   "metadata": {},
   "outputs": [],
   "source": [
    "RAW_TRAIN_PNEUMONIA_FILE_LIST = glob.glob(os.path.join(RAW_TRAIN_PATH,\"PNEUMONIA/*\"))\n",
    "RAW_TRAIN_NORMAL_FILE_LIST = glob.glob(os.path.join(RAW_TRAIN_PATH,\"NORMAL/*\"))\n",
    "\n",
    "RAW_TEST_PNEUMONIA_FILE_LIST = glob.glob(os.path.join(RAW_TEST_PATH,\"PNEUMONIA/*\"))\n",
    "RAW_TEST_NORMAL_FILE_LIST = glob.glob(os.path.join(RAW_TEST_PATH,\"NORMAL/*\"))\n",
    "\n",
    "RAW_VAL_PNEUMONIA_FILE_LIST = glob.glob(os.path.join(RAW_VAL_PATH,\"PNEUMONIA/*\"))\n",
    "RAW_VAL_NORMAL_FILE_LIST = glob.glob(os.path.join(RAW_VAL_PATH,\"NORMAL/*\"))"
   ]
  },
  {
   "cell_type": "code",
   "execution_count": 5,
   "id": "652e774d",
   "metadata": {},
   "outputs": [
    {
     "name": "stdout",
     "output_type": "stream",
     "text": [
      "RAW_TRAIN_PNEUMONIA_FILE_LIST: 420\n",
      "RAW_TRAIN_NORMAL_FILE_LIST: 378\n",
      "RAW_TEST_PNEUMONIA_FILE_LIST: 210\n",
      "RAW_TEST_NORMAL_FILE_LIST: 156\n",
      "RAW_VAL_PNEUMONIA_FILE_LIST: 8\n",
      "RAW_VAL_NORMAL_FILE_LIST: 8\n"
     ]
    }
   ],
   "source": [
    "print(f\"RAW_TRAIN_PNEUMONIA_FILE_LIST: {len(RAW_TRAIN_PNEUMONIA_FILE_LIST)}\\n\"\n",
    "      f\"RAW_TRAIN_NORMAL_FILE_LIST: {len(RAW_TRAIN_NORMAL_FILE_LIST)}\\n\"\n",
    "      f\"RAW_TEST_PNEUMONIA_FILE_LIST: {len(RAW_TEST_PNEUMONIA_FILE_LIST)}\\n\"\n",
    "      f\"RAW_TEST_NORMAL_FILE_LIST: {len(RAW_TEST_NORMAL_FILE_LIST)}\\n\"\n",
    "      f\"RAW_VAL_PNEUMONIA_FILE_LIST: {len(RAW_VAL_PNEUMONIA_FILE_LIST)}\\n\"\n",
    "      f\"RAW_VAL_NORMAL_FILE_LIST: {len(RAW_VAL_NORMAL_FILE_LIST)}\")"
   ]
  },
  {
   "cell_type": "markdown",
   "id": "7ba4c3c3",
   "metadata": {},
   "source": [
    "### Load & Process the Data"
   ]
  },
  {
   "cell_type": "code",
   "execution_count": 6,
   "id": "ce03c4ca",
   "metadata": {
    "scrolled": true
   },
   "outputs": [
    {
     "name": "stdout",
     "output_type": "stream",
     "text": [
      "Loading RAW_TRAIN..\n",
      "Loading RAW_TEST..\n",
      "Loading RAW_VAL..\n"
     ]
    }
   ],
   "source": [
    "print(\"Loading RAW_TRAIN..\")\n",
    "RAW_TRAIN_PNEUMONIA= [cv.resize(cv.imread(path), DIM) for path in RAW_TRAIN_PNEUMONIA_FILE_LIST]\n",
    "RAW_TRAIN_NORMAL= [cv.resize(cv.imread(path), DIM) for path in RAW_TRAIN_NORMAL_FILE_LIST]\n",
    "\n",
    "print(\"Loading RAW_TEST..\")\n",
    "RAW_TEST_PNEUMONIA= [cv.resize(cv.imread(path), DIM) for path in RAW_TEST_PNEUMONIA_FILE_LIST]\n",
    "RAW_TEST_NORMAL= [cv.resize(cv.imread(path), DIM) for path in RAW_TEST_NORMAL_FILE_LIST]\n",
    "\n",
    "print(\"Loading RAW_VAL..\")\n",
    "RAW_VAL_PNEUMONIA= [cv.resize(cv.imread(path), DIM) for path in RAW_VAL_PNEUMONIA_FILE_LIST]\n",
    "RAW_VAL_NORMAL= [cv.resize(cv.imread(path), DIM) for path in RAW_VAL_NORMAL_FILE_LIST]"
   ]
  },
  {
   "cell_type": "markdown",
   "id": "30ed3724",
   "metadata": {},
   "source": [
    "### Save the Data to File"
   ]
  },
  {
   "cell_type": "code",
   "execution_count": 7,
   "id": "55c04265",
   "metadata": {},
   "outputs": [],
   "source": [
    "from pathlib import Path\n",
    "BASE_PROC_DIR = os.path.join(base_path,\"task-2-data-processing/data/processed-data\")\n",
    "Path(BASE_PROC_DIR).mkdir(parents=True, exist_ok=True)"
   ]
  },
  {
   "cell_type": "code",
   "execution_count": 8,
   "id": "958072f4",
   "metadata": {},
   "outputs": [],
   "source": [
    "\"\"\"\n",
    "1) Creates base directory with path ../../../task-2-data-processing/data/processed-data/*/**/\n",
    "    where:\n",
    "     * [train/test/val]\n",
    "     ** [NORMAL/PNEUMONIA]\n",
    "2) Save processed images to file with their original name.\n",
    "\"\"\"\n",
    "\n",
    "for IMG_LIST,IMG_PATH_LIST in zip([RAW_TRAIN_PNEUMONIA, RAW_TRAIN_NORMAL, RAW_TEST_PNEUMONIA,\n",
    "                                 RAW_TEST_NORMAL, RAW_VAL_PNEUMONIA, RAW_VAL_NORMAL],\n",
    "                                [RAW_TRAIN_PNEUMONIA_FILE_LIST, RAW_TRAIN_NORMAL_FILE_LIST,\n",
    "                                 RAW_TEST_PNEUMONIA_FILE_LIST, RAW_TEST_NORMAL_FILE_LIST,\n",
    "                                 RAW_VAL_PNEUMONIA_FILE_LIST, RAW_VAL_NORMAL_FILE_LIST]\n",
    "                                ):\n",
    "    # (1)\n",
    "    base_path_list = [BASE_PROC_DIR] + IMG_PATH_LIST[0].split('/')[-3:-1]\n",
    "    Path(os.path.join(*base_path_list)).mkdir(parents=True, exist_ok=True)\n",
    "    for img,path in zip(IMG_LIST,IMG_PATH_LIST):\n",
    "        # (2)\n",
    "        file_path_list = base_path_list + [path.split('/')[-1]]\n",
    "        cv.imwrite(os.path.join(*file_path_list), img)"
   ]
  }
 ],
 "metadata": {
  "kernelspec": {
   "display_name": "Python 3",
   "language": "python",
   "name": "python3"
  },
  "language_info": {
   "codemirror_mode": {
    "name": "ipython",
    "version": 3
   },
   "file_extension": ".py",
   "mimetype": "text/x-python",
   "name": "python",
   "nbconvert_exporter": "python",
   "pygments_lexer": "ipython3",
   "version": "3.8.6"
  }
 },
 "nbformat": 4,
 "nbformat_minor": 5
}
