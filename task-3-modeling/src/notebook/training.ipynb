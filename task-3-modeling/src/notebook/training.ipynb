{
 "cells": [
  {
   "cell_type": "code",
   "execution_count": null,
   "id": "0e7becf2",
   "metadata": {},
   "outputs": [],
   "source": [
    "import tensorflow as tf\n",
    "from tensorflow.keras.applications import densenet"
   ]
  },
  {
   "cell_type": "code",
   "execution_count": null,
   "id": "9cc72f1c",
   "metadata": {},
   "outputs": [],
   "source": [
    "!echo $PYTHONPATH"
   ]
  },
  {
   "cell_type": "code",
   "execution_count": null,
   "id": "b626f804",
   "metadata": {},
   "outputs": [],
   "source": [
    "%env PYTHONPATH=/home/jinen/git/Pneumonia-Classification/task-3-modeling/src/"
   ]
  },
  {
   "cell_type": "code",
   "execution_count": null,
   "id": "6654ad53",
   "metadata": {},
   "outputs": [],
   "source": [
    "os.getcwd()"
   ]
  },
  {
   "cell_type": "code",
   "execution_count": null,
   "id": "871ff211",
   "metadata": {},
   "outputs": [],
   "source": [
    "import os\n",
    "import mlflow\n",
    "from task2.data_processing import get_data_generators ## imports using ln -sf \n",
    "from base.const.general_const import NOTEBOOK, IMG_SIZE, IMG_SHAPE, CLASS_NAME_PATH,\\\n",
    "    CLASS_MODE, BATCH_SIZE, PROD_MODEL_PATH, PROJECT_NAME\n",
    "from const.modeling_const import PROCESSED_TRAIN_PATH, PROCESSED_TEST_PATH, INIT_EPOCHS, LEARNING_RATE, CSV_LOG_PATH, CHECKPOINT_PATH, DH_LOG_PARAM_PATH\n",
    "from .training import build_model, get_callbacks\n",
    "from dagshub import dagshub_logger"
   ]
  },
  {
   "cell_type": "code",
   "execution_count": null,
   "id": "4d84377c",
   "metadata": {},
   "outputs": [],
   "source": [
    "DAGSHUB_USER_NAME = input(\"DAGsHub Username:\")\n",
    "DAGSHUB_TOKEN = input(f\"Token for {DAGSHUB_USER_NAME}:\")\n",
    "DAGSHUB_REPO_NAME = \"Pneumonia-Classification\"\n",
    "DAGSHUB_REPO_OWNER = \"nirbarazida\""
   ]
  },
  {
   "cell_type": "code",
   "execution_count": null,
   "id": "505d5d45",
   "metadata": {},
   "outputs": [],
   "source": [
    "os.environ['MLFLOW_TRACKING_USERNAME'] = DAGSHUB_USER_NAME\n",
    "os.environ['MLFLOW_TRACKING_PASSWORD'] = DAGSHUB_TOKEN\n",
    "\n",
    "mlflow.set_tracking_uri(f'https://dagshub.com/{DAGSHUB_REPO_OWNER}/{DAGSHUB_REPO_NAME}.mlflow')\n",
    "\n",
    "training_generator, validation_generator, test_generator = get_data_generators(DATA_DIR='/home/jinen/git/Pneumonia-Classification/data/',\n",
    "                                                                               PROJECT_NAME=PROJECT_NAME,\n",
    "                                                                               BATCH_SIZE=BATCH_SIZE,\n",
    "                                                                               DIM=IMG_SIZE)"
   ]
  },
  {
   "cell_type": "code",
   "execution_count": null,
   "id": "7fe43519",
   "metadata": {},
   "outputs": [],
   "source": [
    "model = build_model(IMG_SHAPE, LEARNING_RATE)\n",
    "csv_logger, early_stopping, model_checkpoint = get_callbacks(CSV_LOG_PATH, CHECKPOINT_PATH)\n",
    "history = model.fit(training_generator,\n",
    "                    epochs=INIT_EPOCHS,\n",
    "                    validation_data=validation_generator,\n",
    "                    use_multiprocessing=True,\n",
    "                    callbacks=[csv_logger, early_stopping, model_checkpoint])"
   ]
  },
  {
   "cell_type": "code",
   "execution_count": null,
   "id": "20ec7560",
   "metadata": {},
   "outputs": [],
   "source": [
    "with dagshub_logger(should_log_metrics=False,hparams_path=DH_LOG_PARAM_PATH) as logger:\n",
    "    logger.log_hyperparams(model.history.params)\n",
    "\n",
    "model.save(PROD_MODEL_PATH)"
   ]
  }
 ],
 "metadata": {
  "kernelspec": {
   "display_name": "Python 3 (ipykernel)",
   "language": "python",
   "name": "python3"
  },
  "language_info": {
   "codemirror_mode": {
    "name": "ipython",
    "version": 3
   },
   "file_extension": ".py",
   "mimetype": "text/x-python",
   "name": "python",
   "nbconvert_exporter": "python",
   "pygments_lexer": "ipython3",
   "version": "3.9.7"
  }
 },
 "nbformat": 4,
 "nbformat_minor": 5
}
